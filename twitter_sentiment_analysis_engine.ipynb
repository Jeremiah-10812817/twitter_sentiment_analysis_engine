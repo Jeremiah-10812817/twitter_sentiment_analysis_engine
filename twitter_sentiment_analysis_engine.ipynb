{
 "cells": [
  {
   "cell_type": "code",
   "execution_count": 1,
   "id": "dea7f02d",
   "metadata": {},
   "outputs": [],
   "source": [
    "# import libraries\n",
    "import snscrape.modules.twitter as sntwitter\n",
    "import itertools,re\n",
    "from textblob import TextBlob\n",
    "import matplotlib.pyplot as plt\n",
    "import pandas as pd\n",
    "from nltk.tokenize import word_tokenize\n",
    "from nltk.stem import WordNetLemmatizer\n",
    "from nltk.corpus import stopwords\n"
   ]
  },
  {
   "cell_type": "code",
   "execution_count": 2,
   "id": "0b4ac109",
   "metadata": {},
   "outputs": [
    {
     "name": "stdout",
     "output_type": "stream",
     "text": [
      "Please input topic you want to analyze Accra\n",
      "How many tweets do you want to analye? 100\n",
      "Lets know the region you want to use \"PLEASE ENTER THE NAME OF A CITY\" Accra\n"
     ]
    }
   ],
   "source": [
    "#Accept input from user and store in dataframe\n",
    "topic=input('Please input topic you want to analyze ')\n",
    "num_tweet= int(input(\"How many tweets do you want to analye? \"))\n",
    "a = input('Lets know the region you want to use \"PLEASE ENTER THE NAME OF A CITY\" ')\n",
    "locat = '\"' + a + '\"'\n",
    "tweet_df = pd.DataFrame(itertools.islice(sntwitter.TwitterSearchScraper(\n",
    "    topic+ ' near:'+locat + \" within:10km\").get_items(), num_tweet))[['rawContent']]\n",
    "\n"
   ]
  },
  {
   "cell_type": "code",
   "execution_count": 3,
   "id": "a8e719f4",
   "metadata": {
    "scrolled": true
   },
   "outputs": [
    {
     "data": {
      "text/html": [
       "<div>\n",
       "<style scoped>\n",
       "    .dataframe tbody tr th:only-of-type {\n",
       "        vertical-align: middle;\n",
       "    }\n",
       "\n",
       "    .dataframe tbody tr th {\n",
       "        vertical-align: top;\n",
       "    }\n",
       "\n",
       "    .dataframe thead th {\n",
       "        text-align: right;\n",
       "    }\n",
       "</style>\n",
       "<table border=\"1\" class=\"dataframe\">\n",
       "  <thead>\n",
       "    <tr style=\"text-align: right;\">\n",
       "      <th></th>\n",
       "      <th>0</th>\n",
       "    </tr>\n",
       "  </thead>\n",
       "  <tbody>\n",
       "    <tr>\n",
       "      <th>0</th>\n",
       "      <td>Just posted a photo @ Accra, Ghana https://t.c...</td>\n",
       "    </tr>\n",
       "    <tr>\n",
       "      <th>1</th>\n",
       "      <td>how i miss the simpler times.</td>\n",
       "    </tr>\n",
       "    <tr>\n",
       "      <th>2</th>\n",
       "      <td>3 bedroom houses for sale at Adenta Pantag Acc...</td>\n",
       "    </tr>\n",
       "    <tr>\n",
       "      <th>3</th>\n",
       "      <td>real</td>\n",
       "    </tr>\n",
       "    <tr>\n",
       "      <th>4</th>\n",
       "      <td>little miss nasty</td>\n",
       "    </tr>\n",
       "  </tbody>\n",
       "</table>\n",
       "</div>"
      ],
      "text/plain": [
       "                                                   0\n",
       "0  Just posted a photo @ Accra, Ghana https://t.c...\n",
       "1                      how i miss the simpler times.\n",
       "2  3 bedroom houses for sale at Adenta Pantag Acc...\n",
       "3                                               real\n",
       "4                                  little miss nasty"
      ]
     },
     "execution_count": 3,
     "metadata": {},
     "output_type": "execute_result"
    }
   ],
   "source": [
    "#put text in a list and create a new dataframe\n",
    "tweet_list = tweet_df['rawContent'].tolist()\n",
    "tweet_df = pd.DataFrame(tweet_list)\n",
    "tweet_df.head()\n"
   ]
  },
  {
   "cell_type": "code",
   "execution_count": 4,
   "id": "3f654598",
   "metadata": {},
   "outputs": [],
   "source": [
    "#Clean data by removing  special characters\n",
    "def clean_data(text):\n",
    "    return ' '.join(re.sub(\"(@[a-zA-Z0-9]+)|([^0-9A-Za-z])|(https://[\\w.]+/[\\w]+)\",\" \",text).split())\n",
    "tweet_df['cleaned_data']= tweet_df[0].apply(clean_data)"
   ]
  },
  {
   "cell_type": "code",
   "execution_count": 5,
   "id": "0c7a651a",
   "metadata": {},
   "outputs": [
    {
     "data": {
      "text/html": [
       "<div>\n",
       "<style scoped>\n",
       "    .dataframe tbody tr th:only-of-type {\n",
       "        vertical-align: middle;\n",
       "    }\n",
       "\n",
       "    .dataframe tbody tr th {\n",
       "        vertical-align: top;\n",
       "    }\n",
       "\n",
       "    .dataframe thead th {\n",
       "        text-align: right;\n",
       "    }\n",
       "</style>\n",
       "<table border=\"1\" class=\"dataframe\">\n",
       "  <thead>\n",
       "    <tr style=\"text-align: right;\">\n",
       "      <th></th>\n",
       "      <th>0</th>\n",
       "      <th>cleaned_data</th>\n",
       "    </tr>\n",
       "  </thead>\n",
       "  <tbody>\n",
       "    <tr>\n",
       "      <th>0</th>\n",
       "      <td>Just posted a photo @ Accra, Ghana https://t.c...</td>\n",
       "      <td>Just posted a photo Accra Ghana</td>\n",
       "    </tr>\n",
       "    <tr>\n",
       "      <th>1</th>\n",
       "      <td>how i miss the simpler times.</td>\n",
       "      <td>how i miss the simpler times</td>\n",
       "    </tr>\n",
       "    <tr>\n",
       "      <th>2</th>\n",
       "      <td>3 bedroom houses for sale at Adenta Pantag Acc...</td>\n",
       "      <td>3 bedroom houses for sale at Adenta Pantag Acc...</td>\n",
       "    </tr>\n",
       "    <tr>\n",
       "      <th>3</th>\n",
       "      <td>real</td>\n",
       "      <td>real</td>\n",
       "    </tr>\n",
       "    <tr>\n",
       "      <th>4</th>\n",
       "      <td>little miss nasty</td>\n",
       "      <td>little miss nasty</td>\n",
       "    </tr>\n",
       "  </tbody>\n",
       "</table>\n",
       "</div>"
      ],
      "text/plain": [
       "                                                   0  \\\n",
       "0  Just posted a photo @ Accra, Ghana https://t.c...   \n",
       "1                      how i miss the simpler times.   \n",
       "2  3 bedroom houses for sale at Adenta Pantag Acc...   \n",
       "3                                               real   \n",
       "4                                  little miss nasty   \n",
       "\n",
       "                                        cleaned_data  \n",
       "0                    Just posted a photo Accra Ghana  \n",
       "1                       how i miss the simpler times  \n",
       "2  3 bedroom houses for sale at Adenta Pantag Acc...  \n",
       "3                                               real  \n",
       "4                                  little miss nasty  "
      ]
     },
     "execution_count": 5,
     "metadata": {},
     "output_type": "execute_result"
    }
   ],
   "source": [
    "tweet_df.head()"
   ]
  },
  {
   "cell_type": "code",
   "execution_count": 6,
   "id": "383faa08",
   "metadata": {},
   "outputs": [],
   "source": [
    "#Change all uppercase letters to lowercase\n",
    "\n",
    "def lower_case(text):\n",
    "    text_words = word_tokenize(text)\n",
    "    text_words_lower = [x.lower() for x in text_words]\n",
    "    return ' '.join(text_words_lower)\n",
    "\n",
    "tweet_df['cleaned_data']= tweet_df['cleaned_data'].apply(lower_case)\n",
    "    "
   ]
  },
  {
   "cell_type": "code",
   "execution_count": 7,
   "id": "d974fee9",
   "metadata": {},
   "outputs": [
    {
     "data": {
      "text/plain": [
       "array(['just posted a photo accra ghana', 'how i miss the simpler time',\n",
       "       '3 bedroom house for sale at adenta pantag accra ghana ghc 700 000 skynews pokemonpresents bbnaijalevelup bbnaijas7',\n",
       "       'real', 'little miss nasty', 'fayy come accra',\n",
       "       'just posted a photo osu accra',\n",
       "       'school ha reopen all student of sportybet senior high school are to report today',\n",
       "       'meditant i don t blame what zlatan said i blame who is posting cu the man played psg a club accra heart of oak ha more trophy than',\n",
       "       'henrie bos we know you can pay', 'god', 'wait what',\n",
       "       'in chapter 23 of letter to nnaa naama i share my thought on perennial flooding especially in the capital city accra i also make some suggestion on how both citizen and our elected leader can collectively work toward solving the problem letterstonnaanaama letsbuildghana',\n",
       "       'we are francis nsawam road church of christ accra ghana',\n",
       "       'na why i ve stopped watching them', 'ki ni',\n",
       "       'attobrah na so the breakfast go hot', 'ayi',\n",
       "       'attobrah she should continue',\n",
       "       'i threatened to quit accra academy before asamoah gyan wa admitted j e sarpong',\n",
       "       'attobrah i ve told you this before na', 'toor',\n",
       "       'rubbish and rubbish',\n",
       "       'attobrah god forbid i ve disowned her abeg',\n",
       "       'attobrah for ein papa pocket', 'attobrah tweaaa kai',\n",
       "       'i will stop watching level 1 because i don t want to see that nonsense',\n",
       "       'attobrah rubbish and nonsense',\n",
       "       'attobrah i will stop watching the house', 'leave me', '',\n",
       "       'chelsea at london made these player their priority but you in some area in accra is saying otherwise',\n",
       "       'inno even watch that nonsense',\n",
       "       'o b o enjoying sugarcane remix by inside accra fela legon sarkodie stonebwoy chi chi wizkid bbnaija',\n",
       "       'yeah it s chelsea so lem me say rubbish about them touch grass',\n",
       "       '', 'i thought i wa the only one sha',\n",
       "       'ilebaye is the bad friend our parent warned u about bbnaija',\n",
       "       'lmao', 'n i ll order flight for you to accra', 'i m in',\n",
       "       'ilebaye and bryann is my imaginary ship sha bbnaija', 'ayooooo',\n",
       "       'lmao', '',\n",
       "       'the only place worth service charge in accra is potbelly shack',\n",
       "       'craving staycation', 'phyna receive sense ijn', 'attobrah',\n",
       "       'chatting', 'see', 'bella and chi chi tom and jerry bbnaija',\n",
       "       '2023 range rover p530 se lwb 7pass for sale kindly contact 233557320861 for any information accra ghana',\n",
       "       'like that like that daniella don turn hajia',\n",
       "       'am trying to hide smll from u guy am bringing u guy a new project stay tune and turn on your notification hq accra ghana',\n",
       "       'mabr3 tu', 'biggie better not make daniella a widow on sunday co',\n",
       "       'accra ghana', '', 'i love intelligent people dating each other',\n",
       "       'that s too bad',\n",
       "       'i m jealous of daniella sha that khalid is fine fine',\n",
       "       'ow chale i no go fit even talk anything again',\n",
       "       'anyways i didn t see that dannie khalid ship coming but i like it bbnaija',\n",
       "       '', 'i m shipping them', 'ilebaye go reach everyone bbnaija',\n",
       "       'try dey lie small small na',\n",
       "       'window seat without a window jottww jottww2022 ghana accra kq kotoka international airport',\n",
       "       'it s happening live this sunday at the accra sport stadium but a ticket and stand a chance of getting a free ticket to qatar for the world cup gamantsecup homowo2022 bringbackthelove',\n",
       "       'shawshank redemption',\n",
       "       'who is watching modern day mom of accra on dgn thought mdmoa',\n",
       "       'daniella is enjoying',\n",
       "       'it is never easy when leaving the mother land ghana see you in 2023 accra jottww jottww2022 thefrimpongs thefrimpongs2022 accra ghana',\n",
       "       'he should continue', 'it s a game', 'i swear',\n",
       "       'biggie doesn t even want level 1 to hear music bbnaija',\n",
       "       'but of late accra is usually code oo anaaa is everywhere mek daa eehh',\n",
       "       'like the way you used kate come pas',\n",
       "       'is live modern day mom in accra',\n",
       "       'i will never get tired of saying how fine khalid is bbnaija',\n",
       "       'amaka bbnaija', 'just posted a photo east legon accra ghana',\n",
       "       'we serve we have more volunteer in more place than any other service organization in the world we are friend neighbor and leader ready to help our community grow and thrive we are lion',\n",
       "       'bankz99 just 3 jon keep cobham out of your mouth',\n",
       "       'modella with the body', 'it s bryann living his best life for me',\n",
       "       'accra in 2023 the city and the beach accra2023',\n",
       "       'hi pls try and get me the location or office of gipc in accra tank',\n",
       "       'accra make hard takoradi make harder', 'goat', 'my sister',\n",
       "       'cobham is the best in the world stop smoking weed', 'yes o',\n",
       "       'yes', 'hermes', 'chichi did good by telling phyna sha',\n",
       "       'retro set wa where it s at don t miss the next one announcing date retroset theareabar accraghana accraparties accra party enjoyment osu accra',\n",
       "       'a lot of people in this accra are probably driving with tv licence co the way some of them drive ei'],\n",
       "      dtype=object)"
      ]
     },
     "execution_count": 7,
     "metadata": {},
     "output_type": "execute_result"
    }
   ],
   "source": [
    "#Lematise text(adjectives)\n",
    "lemmatizer = WordNetLemmatizer()\n",
    "def lemmatise(text):\n",
    "    text_tokens = word_tokenize(text)\n",
    "    text_lemm = [lemmatizer.lemmatize(word) for word in text_tokens]\n",
    "    return ' '.join(text_lemm)\n",
    "\n",
    "tweet_df['cleaned_data']= tweet_df['cleaned_data'].apply(lemmatise)\n",
    "tweet_df['cleaned_data'].values\n"
   ]
  },
  {
   "cell_type": "code",
   "execution_count": 8,
   "id": "6c0023f0",
   "metadata": {},
   "outputs": [
    {
     "data": {
      "text/plain": [
       "array(['posted photo accra ghana', 'miss simpler time',\n",
       "       '3 bedroom house sale adenta pantag accra ghana ghc 700 000 skynews pokemonpresents bbnaijalevelup bbnaijas7',\n",
       "       'real', 'little miss nasty', 'fayy come accra',\n",
       "       'posted photo osu accra',\n",
       "       'school ha reopen student sportybet senior high school report today',\n",
       "       'meditant blame zlatan said blame posting cu man played psg club accra heart oak ha trophy',\n",
       "       'henrie bos know pay', 'god', 'wait',\n",
       "       'chapter 23 letter nnaa naama share thought perennial flooding especially capital city accra also make suggestion citizen elected leader collectively work toward solving problem letterstonnaanaama letsbuildghana',\n",
       "       'francis nsawam road church christ accra ghana',\n",
       "       'na stopped watching', 'ki ni', 'attobrah na breakfast go hot',\n",
       "       'ayi', 'attobrah continue',\n",
       "       'threatened quit accra academy asamoah gyan wa admitted j e sarpong',\n",
       "       'attobrah told na', 'toor', 'rubbish rubbish',\n",
       "       'attobrah god forbid disowned abeg', 'attobrah ein papa pocket',\n",
       "       'attobrah tweaaa kai', 'stop watching level 1 want see nonsense',\n",
       "       'attobrah rubbish nonsense', 'attobrah stop watching house',\n",
       "       'leave', '',\n",
       "       'chelsea london made player priority area accra saying otherwise',\n",
       "       'inno even watch nonsense',\n",
       "       'b enjoying sugarcane remix inside accra fela legon sarkodie stonebwoy chi chi wizkid bbnaija',\n",
       "       'yeah chelsea lem say rubbish touch grass', '',\n",
       "       'thought wa one sha', 'ilebaye bad friend parent warned u bbnaija',\n",
       "       'lmao', 'n order flight accra', '',\n",
       "       'ilebaye bryann imaginary ship sha bbnaija', 'ayooooo', 'lmao', '',\n",
       "       'place worth service charge accra potbelly shack',\n",
       "       'craving staycation', 'phyna receive sense ijn', 'attobrah',\n",
       "       'chatting', 'see', 'bella chi chi tom jerry bbnaija',\n",
       "       '2023 range rover p530 se lwb 7pass sale kindly contact 233557320861 information accra ghana',\n",
       "       'like like daniella turn hajia',\n",
       "       'trying hide smll u guy bringing u guy new project stay tune turn notification hq accra ghana',\n",
       "       'mabr3 tu', 'biggie better make daniella widow sunday co',\n",
       "       'accra ghana', '', 'love intelligent people dating', 'bad',\n",
       "       'jealous daniella sha khalid fine fine',\n",
       "       'ow chale go fit even talk anything',\n",
       "       'anyways see dannie khalid ship coming like bbnaija', '',\n",
       "       'shipping', 'ilebaye go reach everyone bbnaija',\n",
       "       'try dey lie small small na',\n",
       "       'window seat without window jottww jottww2022 ghana accra kq kotoka international airport',\n",
       "       'happening live sunday accra sport stadium ticket stand chance getting free ticket qatar world cup gamantsecup homowo2022 bringbackthelove',\n",
       "       'shawshank redemption',\n",
       "       'watching modern day mom accra dgn thought mdmoa',\n",
       "       'daniella enjoying',\n",
       "       'never easy leaving mother land ghana see 2023 accra jottww jottww2022 thefrimpongs thefrimpongs2022 accra ghana',\n",
       "       'continue', 'game', 'swear',\n",
       "       'biggie even want level 1 hear music bbnaija',\n",
       "       'late accra usually code oo anaaa everywhere mek daa eehh',\n",
       "       'like way used kate come pas', 'live modern day mom accra',\n",
       "       'never get tired saying fine khalid bbnaija', 'amaka bbnaija',\n",
       "       'posted photo east legon accra ghana',\n",
       "       'serve volunteer place service organization world friend neighbor leader ready help community grow thrive lion',\n",
       "       'bankz99 3 jon keep cobham mouth', 'modella body',\n",
       "       'bryann living best life', 'accra 2023 city beach accra2023',\n",
       "       'hi pls try get location office gipc accra tank',\n",
       "       'accra make hard takoradi make harder', 'goat', 'sister',\n",
       "       'cobham best world stop smoking weed', 'yes', 'yes', 'hermes',\n",
       "       'chichi good telling phyna sha',\n",
       "       'retro set wa miss next one announcing date retroset theareabar accraghana accraparties accra party enjoyment osu accra',\n",
       "       'lot people accra probably driving tv licence co way drive ei'],\n",
       "      dtype=object)"
      ]
     },
     "execution_count": 8,
     "metadata": {},
     "output_type": "execute_result"
    }
   ],
   "source": [
    "#Remove stopwords\n",
    "def remove_stopwords(text):\n",
    "    text_tokens = word_tokenize(text)\n",
    "    tokens= [word for word in text_tokens if not word in set(stopwords.words('english'))]\n",
    "    tokens_text = ' '.join(tokens)\n",
    "    return tokens_text\n",
    "tweet_df['cleaned_data']= tweet_df['cleaned_data'].apply(remove_stopwords)\n",
    "\n",
    "tweet_df['cleaned_data'].values"
   ]
  },
  {
   "cell_type": "code",
   "execution_count": 9,
   "id": "d59e7da4",
   "metadata": {},
   "outputs": [],
   "source": [
    "#define the polarity \n",
    "def get_polarity(text):\n",
    "    textblob = TextBlob(str(text))\n",
    "    pol = textblob.sentiment.polarity\n",
    "    if (pol==0):\n",
    "        return \"Neutral\"\n",
    "    elif(pol>0 and pol<=0.3):\n",
    "        return \"Weakly Positive\"\n",
    "    elif(pol>0.3 and pol<0.6):\n",
    "        return \"Positive\"\n",
    "    elif(pol>0.6 and pol<=1):\n",
    "        return \"strongly Positive\"\n",
    "    elif(pol>-0.3 and pol<=0):\n",
    "        return \"Weakly Negative\"\n",
    "    elif(pol>-0.6 and pol<= 0.3):\n",
    "        return \"Negative\"\n",
    "    elif(pol>-1 and pol<=-0.6):\n",
    "        return \"Strongly Negative\"\n",
    "    \n",
    "tweet_df['polarity']= tweet_df['cleaned_data'].apply(get_polarity)\n"
   ]
  },
  {
   "cell_type": "code",
   "execution_count": 10,
   "id": "37165219",
   "metadata": {},
   "outputs": [
    {
     "data": {
      "text/plain": [
       "Neutral              70\n",
       "Weakly Positive      10\n",
       "Positive              5\n",
       "strongly Positive     4\n",
       "Weakly Negative       4\n",
       "Negative              2\n",
       "Strongly Negative     2\n",
       "Name: polarity, dtype: int64"
      ]
     },
     "execution_count": 10,
     "metadata": {},
     "output_type": "execute_result"
    }
   ],
   "source": [
    "#print polaeity\n",
    "tweet_df['polarity'].value_counts()"
   ]
  },
  {
   "cell_type": "code",
   "execution_count": 12,
   "id": "91bba9b2",
   "metadata": {},
   "outputs": [],
   "source": [
    "#Finding the mean polarity to generalize neutral = 0\n",
    "wpositive = 0\n",
    "spositive = 0\n",
    "positive = 0\n",
    "negative = 0\n",
    "wnegative = 0\n",
    "snegative = 0\n",
    "polarity = 0\n",
    "neutral =0\n",
    "\n",
    "for i in range (0,70):\n",
    "    textblob = TextBlob(str(tweet_df['cleaned_data'][i]))\n",
    "    polarity+= textblob.sentiment.polarity\n",
    "    pol= textblob.sentiment.polarity\n",
    "    if (pol==0):\n",
    "        neutral +=1\n",
    "    elif(pol>0 and pol <=0.3):\n",
    "        wpositive +=1\n",
    "    elif(pol>0.3 and pol <=0.6):\n",
    "        positive +=1\n",
    "    elif(pol>0.6 and pol <=1):\n",
    "        spositive += 1\n",
    "    elif(pol > -0.3 and pol <= 0):\n",
    "        wnegative +=1\n",
    "    elif(pol > -0.6 and pol <= -0.3):\n",
    "        negative +=1\n",
    "    elif(pol > -1 and pol<= -0.6):\n",
    "        snegative +=1\n",
    "            \n"
   ]
  },
  {
   "cell_type": "code",
   "execution_count": 13,
   "id": "0c09b03f",
   "metadata": {},
   "outputs": [
    {
     "data": {
      "text/plain": [
       "0.03337462121212121"
      ]
     },
     "execution_count": 13,
     "metadata": {},
     "output_type": "execute_result"
    }
   ],
   "source": [
    "polarity = polarity / num_tweet\n",
    "polarity"
   ]
  },
  {
   "cell_type": "code",
   "execution_count": 14,
   "id": "817550b2",
   "metadata": {},
   "outputs": [],
   "source": [
    "#function for calculating percentage of polarity\n",
    "\n",
    "def percentage(part, whole):\n",
    "    temp = 100* float(part)/ float(whole)\n",
    "    return format(temp, '.2f')"
   ]
  },
  {
   "cell_type": "code",
   "execution_count": 15,
   "id": "90e5fbc0",
   "metadata": {},
   "outputs": [],
   "source": [
    "#calling the percentage function\n",
    "positive = percentage(positive, num_tweet)\n",
    "wpositive = percentage(wpositive, num_tweet)\n",
    "spositive = percentage(spositive, num_tweet)\n",
    "negative = percentage(negative, num_tweet)\n",
    "wnegative = percentage(wnegative, num_tweet)\n",
    "snegative = percentage(snegative, num_tweet)\n",
    "neutral = percentage(neutral, num_tweet)"
   ]
  },
  {
   "cell_type": "code",
   "execution_count": 16,
   "id": "323083d4",
   "metadata": {},
   "outputs": [
    {
     "name": "stdout",
     "output_type": "stream",
     "text": [
      "How people are reacting on Accra by analyzing 100 tweets\n",
      "\n",
      "-----------------------------------------------------------------\n",
      "\n",
      "General Report: \n",
      "Weakly Positive\n",
      "\n",
      "------------------------------------------------------------------\n",
      "Detailed Report: \n",
      "7.00% people thought it was positive\n",
      "6.00% people thought it was weakly positive\n",
      "1.00% people thought it was strongly positive\n",
      "1.00% people thought it was negative\n",
      "1.00% people thought it was weakly negative\n",
      "2.00% people thought it was strongly negative\n",
      "52.00% people thought it was neutral\n"
     ]
    }
   ],
   "source": [
    "#Printing summary report\n",
    "\n",
    "print(\"How people are reacting on \"+ topic + \" by analyzing \"+ str(num_tweet)+ \" tweets\")\n",
    "print()\n",
    "print(\"-----------------------------------------------------------------\")\n",
    "print()\n",
    "print(\"General Report: \")\n",
    "\n",
    "if (polarity==0):\n",
    "    print(\"Neutral\")\n",
    "elif(polarity>0 and polarity <=0.3):\n",
    "    print(\"Weakly Positive\")\n",
    "elif(polarity>0.3 and polarity <=0.6):\n",
    "    print(\"Positive\")\n",
    "elif(polarity>0.6 and polarity <=1):\n",
    "    print(\"Strongly positive\")\n",
    "elif(polarity > -0.3 and polarity <= 0):\n",
    "    print(\"Weakly Negative\")\n",
    "elif(polarity > -0.6 and polarity <=-0.3):\n",
    "    print(\"Negative\")\n",
    "elif(polarity > -1 and polarity <=-0.6):\n",
    "    print (\"Strongly Negative\")\n",
    "        \n",
    "        \n",
    "print()\n",
    "print(\"------------------------------------------------------------------\")\n",
    "print(\"Detailed Report: \")\n",
    "print(str(positive)+ \"% people thought it was positive\")\n",
    "print(str(wpositive)+ \"% people thought it was weakly positive\")\n",
    "print(str(spositive)+ \"% people thought it was strongly positive\")\n",
    "print(str(negative)+ \"% people thought it was negative\")\n",
    "print(str(wnegative)+ \"% people thought it was weakly negative\")\n",
    "print(str(snegative)+ \"% people thought it was strongly negative\")\n",
    "print(str(neutral)+ \"% people thought it was neutral\")\n",
    "\n",
    "\n"
   ]
  },
  {
   "cell_type": "code",
   "execution_count": 17,
   "id": "88af3d61",
   "metadata": {},
   "outputs": [],
   "source": [
    "sizes =[positive,wpositive,spositive,neutral,negative,wnegative,snegative]\n",
    "colors =['yellowgreen','lightgreen','blue','gold','red','lightsalmon','darkred']\n",
    "labels = ['Positive[' + str(positive)+'%]','Strongly Positive[' + str(spositive)+'%]',\n",
    "          'Weakly Positive[' + str(wpositive)+'%]','Negative[' + str(negative)+'%]',\n",
    "          'Strongly Negative[' + str(snegative)+'%]','Weakly Negative[' + str(negative)+'%]',\n",
    "          'Neutral[' + str(neutral)+'%]']\n",
    "                                                     "
   ]
  },
  {
   "cell_type": "code",
   "execution_count": 18,
   "id": "1b850dd5",
   "metadata": {},
   "outputs": [
    {
     "data": {
      "text/plain": [
       "<function matplotlib.pyplot.show(close=None, block=None)>"
      ]
     },
     "execution_count": 18,
     "metadata": {},
     "output_type": "execute_result"
    },
    {
     "data": {
      "image/png": "[encoded data removed]",
      "text/plain": [
       "<Figure size 432x288 with 1 Axes>"
      ]
     },
     "metadata": {},
     "output_type": "display_data"
    }
   ],
   "source": [
    "#Displaying summary on a piechart\n",
    "plt.pie(sizes,labels=labels, colors=colors)\n",
    "plt.legend(labels,loc=\"best\")\n",
    "plt.title(\"How people are reacting on \"+ topic + \" by analyzing \"+ str(num_tweet)+ \" tweets\")\n",
    "plt.axis('equal')\n",
    "plt.tight_layout()\n",
    "plt.show"
   ]
  },
  {
   "cell_type": "code",
   "execution_count": null,
   "id": "488b0b22",
   "metadata": {},
   "outputs": [],
   "source": []
  }
 ],
 "metadata": {
  "kernelspec": {
   "display_name": "Python 3 (ipykernel)",
   "language": "python",
   "name": "python3"
  },
  "language_info": {
   "codemirror_mode": {
    "name": "ipython",
    "version": 3
   },
   "file_extension": ".py",
   "mimetype": "text/x-python",
   "name": "python",
   "nbconvert_exporter": "python",
   "pygments_lexer": "ipython3",
   "version": "3.9.12"
  }
 },
 "nbformat": 4,
 "nbformat_minor": 5
}
